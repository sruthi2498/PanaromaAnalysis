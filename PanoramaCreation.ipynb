{
  "nbformat": 4,
  "nbformat_minor": 0,
  "metadata": {
    "colab": {
      "provenance": [],
      "authorship_tag": "ABX9TyPv8A+fJK6GsR1IIz3K7e0W",
      "include_colab_link": true
    },
    "kernelspec": {
      "name": "python3",
      "display_name": "Python 3"
    },
    "language_info": {
      "name": "python"
    }
  },
  "cells": [
    {
      "cell_type": "markdown",
      "metadata": {
        "id": "view-in-github",
        "colab_type": "text"
      },
      "source": [
        "<a href=\"https://colab.research.google.com/github/sruthi2498/PanaromaAnalysis/blob/main/PanoramaCreation.ipynb\" target=\"_parent\"><img src=\"https://colab.research.google.com/assets/colab-badge.svg\" alt=\"Open In Colab\"/></a>"
      ]
    },
    {
      "cell_type": "code",
      "source": [
        "import cv2\n",
        "import numpy as np\n",
        "import os\n",
        "import shutil"
      ],
      "metadata": {
        "id": "WwqgJi4HQxyd"
      },
      "execution_count": null,
      "outputs": []
    },
    {
      "cell_type": "code",
      "source": [
        "from google.colab import drive\n",
        "drive.mount('/content/drive')"
      ],
      "metadata": {
        "id": "VuXONDImQy4K"
      },
      "execution_count": null,
      "outputs": []
    },
    {
      "cell_type": "code",
      "source": [
        "video_path = \"background.avi\"\n",
        "selected_frames_folder = \"selected_frames\""
      ],
      "metadata": {
        "id": "QgR7kAsjQ4KS"
      },
      "execution_count": null,
      "outputs": []
    },
    {
      "cell_type": "code",
      "source": [
        "if os.path.isdir(selected_frames_folder):\n",
        "    shutil.rmtree(selected_frames_folder);\n",
        "os.mkdir(selected_frames_folder);"
      ],
      "metadata": {
        "id": "Z7xDrduVQ-fn"
      },
      "execution_count": null,
      "outputs": []
    },
    {
      "cell_type": "code",
      "execution_count": null,
      "metadata": {
        "id": "ce8reV5uQuzH"
      },
      "outputs": [],
      "source": [
        "cap = cv.VideoCapture(video_path)\n",
        "counter = 0;\n",
        "orb = cv2.ORB_create();\n",
        "bf = cv2.BFMatcher(cv2.NORM_HAMMING, crossCheck=False);\n",
        "j = 1\n",
        "_, last = cap.read();\n",
        "last = rescale(last);\n",
        "cv2.imwrite(selected_frames_folder + str(counter).zfill(5) + \".png\", last);\n",
        "\n",
        "kp1, des1 = orb.detectAndCompute(last, None);\n",
        "\n",
        "cutoff = 20; \n",
        "selected_frames = [j]\n",
        "\n",
        "prev = None;\n",
        "while True:\n",
        "    j+=1\n",
        "    ret, frame = cap.read();\n",
        "    if not ret:\n",
        "        break;\n",
        "    frame = rescale(frame);\n",
        "    kp2, des2 = orb.detectAndCompute(frame, None);\n",
        "    matches = bf.knnMatch(des1, des2, k=2);\n",
        "    # lowe's ratio\n",
        "    good = []\n",
        "    for m,n in matches:\n",
        "        if m.distance < 0.75*n.distance:\n",
        "            good.append(m);\n",
        "    if len(good) < cutoff:\n",
        "        # swap and save\n",
        "        counter += 1;\n",
        "        last = frame;\n",
        "        kp1 = kp2;\n",
        "        des1 = des2;\n",
        "        cv2.imwrite(selected_frames_folder + str(counter).zfill(5) + \".png\", last);\n",
        "        print(\"New Frame: \" + str(counter));\n",
        "        selected_frames.append(j)\n",
        "    prev = frame;\n",
        "\n",
        "counter += 1;\n",
        "cv2.imwrite(selected_frames_folder + str(counter).zfill(5) + \".png\", prev);\n",
        "\n",
        "# check number of saved frames\n",
        "print(\"Counter: \" + str(counter));"
      ]
    },
    {
      "cell_type": "code",
      "source": [
        "final_panorama_path = \"panorama.png\""
      ],
      "metadata": {
        "id": "c-kx1eTeRQCZ"
      },
      "execution_count": null,
      "outputs": []
    },
    {
      "cell_type": "code",
      "source": [
        "stitcher = cv.Stitcher.create()\n",
        "ret, pano = stitcher.stitch(frames)\n",
        "if ret==cv.STITCHER_OK:\n",
        "  cv2_imshow(pano)\n",
        "  cv2.imwrite(final_panorama_path, pano);"
      ],
      "metadata": {
        "id": "n7j7VRqiROQr"
      },
      "execution_count": null,
      "outputs": []
    }
  ]
}
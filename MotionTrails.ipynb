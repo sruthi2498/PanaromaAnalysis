{
  "nbformat": 4,
  "nbformat_minor": 0,
  "metadata": {
    "colab": {
      "provenance": [],
      "authorship_tag": "ABX9TyOdAWC4EjLcO/z01l5xTGxz",
      "include_colab_link": true
    },
    "kernelspec": {
      "name": "python3",
      "display_name": "Python 3"
    },
    "language_info": {
      "name": "python"
    }
  },
  "cells": [
    {
      "cell_type": "markdown",
      "metadata": {
        "id": "view-in-github",
        "colab_type": "text"
      },
      "source": [
        "<a href=\"https://colab.research.google.com/github/sruthi2498/PanaromaAnalysis/blob/main/MotionTrails.ipynb\" target=\"_parent\"><img src=\"https://colab.research.google.com/assets/colab-badge.svg\" alt=\"Open In Colab\"/></a>"
      ]
    },
    {
      "cell_type": "code",
      "execution_count": null,
      "metadata": {
        "id": "fUkN9PURW9rI"
      },
      "outputs": [],
      "source": [
        "import collections\n",
        "import os\n",
        "import tempfile\n",
        "import copy\n",
        "\n",
        "from matplotlib import gridspec\n",
        "from matplotlib import pyplot as plt\n",
        "import numpy as np\n",
        "from PIL import Image\n",
        "import urllib\n",
        "\n",
        "import tensorflow as tf\n",
        "\n",
        "import cv2 as cv\n",
        "from PIL import Image\n",
        "from google.colab import files"
      ]
    },
    {
      "cell_type": "code",
      "source": [
        "from google.colab import drive\n",
        "drive.mount('/content/drive')"
      ],
      "metadata": {
        "id": "2YeydUCvXAd0"
      },
      "execution_count": null,
      "outputs": []
    },
    {
      "cell_type": "code",
      "source": [
        "fg_frames=[]\n",
        "folder = \"test1/foreground2/\"\n",
        "image_num = len(os.listdir(folder))\n",
        "for i in range(1,image_num+1):\n",
        "    fg_frames.append(cv.imread(folder+str(i)+'.png'))\n",
        "\n",
        "len(fg_frames)"
      ],
      "metadata": {
        "id": "0rDlsvD-XY-l"
      },
      "execution_count": null,
      "outputs": []
    },
    {
      "cell_type": "code",
      "source": [
        "pano = cv.imread(\"panorama.png\")"
      ],
      "metadata": {
        "id": "sxpDSKOwXlTd"
      },
      "execution_count": null,
      "outputs": []
    },
    {
      "cell_type": "code",
      "source": [
        "sift = cv.xfeatures2d.SIFT_create()\n",
        "\n",
        "def match(img1,img2):\n",
        "  kp1, des1 = sift.detectAndCompute(img1, None)\n",
        "  kp2, des2 = sift.detectAndCompute(img2, None)\n",
        "      # Apply ratio test\n",
        "  bf = cv.BFMatcher()\n",
        "  matches = bf.knnMatch(des1, des2, k=2)\n",
        "      # Apply ratio test\n",
        "  good_matches = []\n",
        "  good_matches_2 = []\n",
        "  for m, n in matches:\n",
        "    if m.distance < 0.5 * n.distance:\n",
        "        good_matches.append([m])\n",
        "        good_matches_2.append(m)\n",
        "\n",
        "  if len(good_matches)>50:\n",
        "    good_matches_2 = sorted(good_matches_2, key = lambda x:x.distance)\n",
        "    sift_matches = cv.drawMatchesKnn(img1, kp1, img2, kp2, good_matches, outImg=None, flags=cv.DrawMatchesFlags_NOT_DRAW_SINGLE_POINTS)\n",
        "\n",
        "    # plt.figure(figsize=(20, 10), dpi=80)\n",
        "\n",
        "    # plt.imshow(sift_matches),plt.show()\n",
        "    return good_matches_2,kp1,kp2\n",
        "  return None,None,None"
      ],
      "metadata": {
        "id": "Ase8Y6DjXqgb"
      },
      "execution_count": null,
      "outputs": []
    },
    {
      "cell_type": "code",
      "source": [
        "def getQueryAndTrainPts(good_matches,kp1,kp2):\n",
        "  src_pts = np.float32([ kp1[m.queryIdx].pt for m in good_matches ]).reshape(-1,1,2)\n",
        "  dst_pts = np.float32([ kp2[m.trainIdx].pt for m in good_matches ]).reshape(-1,1,2) \n",
        "  return src_pts,dst_p\n",
        "\n",
        "\n",
        "def makewhiteBlack(frame):\n",
        "  frame2 = frame.copy()\n",
        "  white = np.all(frame == [255, 255, 255], axis=-1)\n",
        "  frame2[white] =0\n",
        "  return frame2\n"
      ],
      "metadata": {
        "id": "cthnigVIXt6h"
      },
      "execution_count": null,
      "outputs": []
    },
    {
      "cell_type": "code",
      "source": [
        "factor = 1/4\n",
        "img2 = pano.copy()\n",
        "H,W,_ = img2.shape\n",
        "for i in range(len(frames)):\n",
        "  img1_og = frames[i]\n",
        "  fg_img = rescale(fg_frames[i],factor)\n",
        "\n",
        "  img1 = rescale(img1_og,factor)\n",
        "  good_matches,kp1,kp2 = match(img1,img2)\n",
        "  if good_matches:\n",
        "    print(i)\n",
        "    img2_h,img2_w = img2.shape[:-1]\n",
        "    src_pts,dst_pts = getQueryAndTrainPts(good_matches,kp1,kp2)\n",
        "\n",
        "    M, mask = cv.findHomography( src_pts,dst_pts,cv.RANSAC,5.0)\n",
        "    M = M*1/factor\n",
        "\n",
        "    fg_img = makewhiteBlack(fg_img)\n",
        "    fg_img_out = cv.warpPerspective(fg_img.copy(), M, (img2.shape[1], img2.shape[0] ))\n",
        "    rows,cols,channels = fg_img_out.shape\n",
        "    roi = img2[0:H,0:W]\n",
        "    img2gray = cv.cvtColor(fg_img_out,cv.COLOR_BGR2GRAY)\n",
        "    ret, mask = cv.threshold(img2gray, 1, 255, cv.THRESH_BINARY)\n",
        "    mask = cv.dilate(mask, None, iterations=3)\n",
        "    mask = cv.erode(mask, None, iterations=5)\n",
        "    mask_inv = cv.bitwise_not(mask)\n",
        "    img2_bg = cv.bitwise_and(roi,roi,mask = mask_inv)\n",
        "    img1_fg = cv.bitwise_and(fg_img_out,fg_img_out,mask = mask)\n",
        "    dst = cv.add(img2_bg,img1_fg)\n",
        "    img2[0:H,0:W] = dst\n",
        "\n",
        "    cv2_imshow(img2)\n",
        "\n"
      ],
      "metadata": {
        "id": "dooB6cxYXFND"
      },
      "execution_count": null,
      "outputs": []
    },
    {
      "cell_type": "code",
      "source": [
        "cv.imwrite(\"motion_trails.png\",img2)"
      ],
      "metadata": {
        "id": "Gf73-jCZX1WN"
      },
      "execution_count": null,
      "outputs": []
    }
  ]
}